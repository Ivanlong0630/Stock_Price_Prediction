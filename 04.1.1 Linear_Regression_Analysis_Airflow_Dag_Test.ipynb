{
 "cells": [
  {
   "cell_type": "code",
   "execution_count": null,
   "metadata": {},
   "outputs": [],
   "source": [
    "from airflow import DAG\n",
    "from datetime import datetime,timedelta\n",
    "from airflow.operators.python import PythonOperator\n",
    "\n",
    "## Projects\n",
    "import pandas as pd\n",
    "import numpy as np\n",
    "import joblib\n",
    "import os\n",
    "import time\n",
    "import datetime\n",
    "from datetime import timedelta,date,datetime\n",
    "import configparser as cp\n",
    "from sqlalchemy import create_engine\n",
    "import mysql.connector\n",
    "\n",
    "# \n",
    "import math\n",
    "import statsmodels.formula.api as smf\n",
    "import statsmodels.api as sm"
   ]
  },
  {
   "cell_type": "markdown",
   "metadata": {},
   "source": [
    "# Environment Set-up"
   ]
  },
  {
   "cell_type": "code",
   "execution_count": null,
   "metadata": {},
   "outputs": [],
   "source": [
    "## Airflow ##\n",
    "linear_analysis_arg={'owner':'airflow',\n",
    "                     'depends_on_past':False,\n",
    "                     'start_date':datetime.datetime(2022,3,1),\n",
    "                     'retries':1,\n",
    "                     'retry_delay':timedelta(minutes=10)\n",
    "                    }\n",
    "\n",
    "## Database ##\n",
    "config=cp.ConfigParser()\n",
    "config.read('/home/ubuntu/certi/db_login.txt')\n",
    "db_config=config['ivan_db']\n",
    "\n",
    "engine=create_engine('mysql+mysqlconnector://{0:s}:{1:s}@{2:s}/{3:s}'.format(db_config['userid'],\n",
    "                                                                             db_config['pwd'],\n",
    "                                                                             db_config['hostname'],\n",
    "                                                                             'STOCK_PRED'\n",
    "                                                                            ))"
   ]
  },
  {
   "cell_type": "markdown",
   "metadata": {},
   "source": [
    "# Data Loading & Cleaning\n",
    "* Save the final result as pkl"
   ]
  },
  {
   "cell_type": "code",
   "execution_count": null,
   "metadata": {},
   "outputs": [],
   "source": [
    "def stock_data_cleaning():\n",
    "    ## Data Loading ##\n",
    "    # 01 Stock mapping\n",
    "    stock_mapping=pd.read_sql(\"\"\"SELECT * \n",
    "                                 FROM STOCK_PRED.NYSE_NASDAQ_TICKERS\n",
    "                              \"\"\",con=engine)\n",
    "    print(stock_mapping.shape)\n",
    "    print(stock_mapping.Symbol.nunique())\n",
    "\n",
    "    # 02 Stock data\n",
    "    df=pd.read_sql(\"\"\"SELECT * \n",
    "                      FROM STOCK_PRED.ALL_STOCK_HIST\n",
    "                      WHERE DATE>=STR_TO_DATE('2020-01-01','%Y-%m-%d')\n",
    "                             \"\"\",\n",
    "                   con=engine)\n",
    "    print(df.shape)\n",
    "    print(df['Date'].max(),df['Date'].min())\n",
    "    \n",
    "    "
   ]
  }
 ],
 "metadata": {
  "kernelspec": {
   "display_name": "Python 3",
   "language": "python",
   "name": "python3"
  },
  "language_info": {
   "codemirror_mode": {
    "name": "ipython",
    "version": 3
   },
   "file_extension": ".py",
   "mimetype": "text/x-python",
   "name": "python",
   "nbconvert_exporter": "python",
   "pygments_lexer": "ipython3",
   "version": "3.7.4"
  }
 },
 "nbformat": 4,
 "nbformat_minor": 2
}
